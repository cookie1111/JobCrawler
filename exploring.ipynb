{
 "cells": [
  {
   "cell_type": "code",
   "execution_count": 1,
   "metadata": {
    "collapsed": true
   },
   "outputs": [
    {
     "name": "stdout",
     "output_type": "stream",
     "text": [
      "<bound method NDFrame.head of          Company_Name              URL  \\\n",
      "0        StudySmarter  studysmarter.de   \n",
      "1           Explosion     explosion.ai   \n",
      "2              Parloa       parloa.com   \n",
      "3            promiseQ     promiseq.com   \n",
      "4             AiSight       aisight.io   \n",
      "...               ...              ...   \n",
      "2626  moneymeets GmbH   moneymeets.com   \n",
      "2627       SABIO GmbH     getsabio.com   \n",
      "2628         Demodesk     demodesk.com   \n",
      "2629         eschbach     eschbach.com   \n",
      "2630      Onesto GmbH        onesto.de   \n",
      "\n",
      "                                                 Career  \\\n",
      "0                                                    []   \n",
      "1                                                    []   \n",
      "2                                                    []   \n",
      "3                       [https://promiseq.com/careers/]   \n",
      "4                        [https://aisight.io/en/career]   \n",
      "...                                                 ...   \n",
      "2626                     [https://moneymeets.com/jobs/]   \n",
      "2627         [https://www.getsabio.com/open-positions/]   \n",
      "2628                     [https://demodesk.com/careers]   \n",
      "2629  [https://eschbach.com/en/about-eschbach/jobs-c...   \n",
      "2630                                                 []   \n",
      "\n",
      "                                 Internal_Potential_Job  \\\n",
      "0                                                    []   \n",
      "1                                                    []   \n",
      "2                                                    []   \n",
      "3                                                    []   \n",
      "4                                                    []   \n",
      "...                                                 ...   \n",
      "2626  [mailto://jobs@moneymeets.com, https://moneyme...   \n",
      "2627                                                 []   \n",
      "2628                                                 []   \n",
      "2629  [https://eschbach.com/en/about-eschbach/jobs-c...   \n",
      "2630                                                 []   \n",
      "\n",
      "                                 External_Potential_Job  \n",
      "0                                                    []  \n",
      "1                                                    []  \n",
      "2                                                    []  \n",
      "3                                                    []  \n",
      "4                   [https://aisight.jobs.personio.de/]  \n",
      "...                                                 ...  \n",
      "2626                                                 []  \n",
      "2627  [https://serviceware-se.com/de/karriere/job-su...  \n",
      "2628  [https://de.indeed.com/cmp/Demodesk, https://w...  \n",
      "2629  [https://dhbw-loerrach.de/wirtschaftsinformati...  \n",
      "2630                                                 []  \n",
      "\n",
      "[2631 rows x 5 columns]>\n"
     ]
    }
   ],
   "source": [
    "import pandas as pd\n",
    "DF_PATH = 'sites.pkl'\n",
    "\n",
    "df = pd.read_pickle(DF_PATH)\n",
    "#levity = pd.read_pickle(\"/home/sebastjan/Documents/crawler/pages_ds/levity_ai/df.pkl\")\n",
    "#df.to_csv(\"careers.csv\")\n",
    "print(df.head)"
   ]
  },
  {
   "cell_type": "code",
   "execution_count": 2,
   "outputs": [
    {
     "data": {
      "text/plain": "1044"
     },
     "execution_count": 2,
     "metadata": {},
     "output_type": "execute_result"
    }
   ],
   "source": [
    "len(df[df.Career.astype(bool)])"
   ],
   "metadata": {
    "collapsed": false,
    "pycharm": {
     "name": "#%%\n"
    }
   }
  },
  {
   "cell_type": "code",
   "execution_count": 1,
   "outputs": [],
   "source": [
    "from page_classification import ClassifyPages"
   ],
   "metadata": {
    "collapsed": false,
    "pycharm": {
     "name": "#%%\n"
    }
   }
  },
  {
   "cell_type": "code",
   "execution_count": 3,
   "outputs": [
    {
     "name": "stderr",
     "output_type": "stream",
     "text": [
      "/home/sebastjan/anaconda3/envs/crawler/lib/python3.10/site-packages/st_aggrid/__init__.py:42: FutureWarning: iteritems is deprecated and will be removed in a future version. Use .items instead.\n",
      "  for c, d in dataframe.dtypes.iteritems():\n",
      "2022-11-04 13:41:20.498 \n",
      "  \u001B[33m\u001B[1mWarning:\u001B[0m to view this Streamlit app on a browser, run it with the following\n",
      "  command:\n",
      "\n",
      "    streamlit run /home/sebastjan/anaconda3/envs/crawler/lib/python3.10/site-packages/ipykernel_launcher.py [ARGUMENTS]\n"
     ]
    },
    {
     "name": "stdout",
     "output_type": "stream",
     "text": [
      "pages_ds/peppermotion_com\n",
      "AgGridReturn(data=     Unnamed: 0                                                URL   id    Job\n",
      "0             0                           https://peppermotion.com    0  False\n",
      "1             0                 https://www.peppermotion.com/jobs/    1   True\n",
      "2             0  https://www.peppermotion.com/produkte-loesunge...    2  False\n",
      "3             0  https://www.peppermotion.com/produkte-loesunge...    3  False\n",
      "4             0  https://www.peppermotion.com/unternehmen/news-...    4  False\n",
      "..          ...                                                ...  ...    ...\n",
      "102           0         https://www.peppermotion.com/karriere-neu/  102  False\n",
      "103           0  https://www.peppermotion.com/pepper-markteintr...  103  False\n",
      "104           0  https://www.peppermotion.com/wp-content/upload...  104  False\n",
      "105           0         https://www.peppermotion.com/en/subsidies/  105  False\n",
      "106           0  https://www.peppermotion.com/wp-content/upload...  106  False\n",
      "\n",
      "[107 rows x 4 columns], selected_rows=[])\n"
     ]
    }
   ],
   "source": [
    "\n",
    "c = ClassifyPages(\"./pages_ds\",[\"career\", \"we-are-recruiting\", \"we-are-hiring\", \"job\", \"positions\", \"welcomekit\",\n",
    "                                       \"joinus\", \"join-us\", \"recruit\", \"work-with-us\", \"work-for-us\"])\n",
    "\n",
    "for folder in c:\n",
    "    print(folder)\n",
    "    c.using_agGrid(c.prep_classification(folder))\n",
    "    break"
   ],
   "metadata": {
    "collapsed": false,
    "pycharm": {
     "name": "#%%\n"
    }
   }
  },
  {
   "cell_type": "code",
   "execution_count": 1,
   "outputs": [
    {
     "ename": "ImportError",
     "evalue": "/lib/x86_64-linux-gnu/libgssapi_krb5.so.2: undefined symbol: krb5_ser_context_init, version krb5_3_MIT",
     "output_type": "error",
     "traceback": [
      "\u001B[0;31m---------------------------------------------------------------------------\u001B[0m",
      "\u001B[0;31mImportError\u001B[0m                               Traceback (most recent call last)",
      "Input \u001B[0;32mIn [1]\u001B[0m, in \u001B[0;36m<cell line: 1>\u001B[0;34m()\u001B[0m\n\u001B[0;32m----> 1\u001B[0m \u001B[38;5;28;01mfrom\u001B[39;00m \u001B[38;5;21;01mpandasgui\u001B[39;00m \u001B[38;5;28;01mimport\u001B[39;00m show\n",
      "File \u001B[0;32m~/anaconda3/envs/crawler/lib/python3.10/site-packages/pandasgui/__init__.py:15\u001B[0m, in \u001B[0;36m<module>\u001B[0;34m\u001B[0m\n\u001B[1;32m     12\u001B[0m logger\u001B[38;5;241m.\u001B[39maddHandler(sh)\n\u001B[1;32m     14\u001B[0m \u001B[38;5;66;03m# Imports\u001B[39;00m\n\u001B[0;32m---> 15\u001B[0m \u001B[38;5;28;01mfrom\u001B[39;00m \u001B[38;5;21;01mpandasgui\u001B[39;00m\u001B[38;5;21;01m.\u001B[39;00m\u001B[38;5;21;01mgui\u001B[39;00m \u001B[38;5;28;01mimport\u001B[39;00m show\n\u001B[1;32m     17\u001B[0m __all__ \u001B[38;5;241m=\u001B[39m [\u001B[38;5;124m\"\u001B[39m\u001B[38;5;124mshow\u001B[39m\u001B[38;5;124m\"\u001B[39m, \u001B[38;5;124m\"\u001B[39m\u001B[38;5;124m__version__\u001B[39m\u001B[38;5;124m\"\u001B[39m]\n",
      "File \u001B[0;32m~/anaconda3/envs/crawler/lib/python3.10/site-packages/pandasgui/gui.py:18\u001B[0m, in \u001B[0;36m<module>\u001B[0;34m\u001B[0m\n\u001B[1;32m     16\u001B[0m \u001B[38;5;28;01mfrom\u001B[39;00m \u001B[38;5;21;01mpandasgui\u001B[39;00m\u001B[38;5;21;01m.\u001B[39;00m\u001B[38;5;21;01mwidgets\u001B[39;00m\u001B[38;5;21;01m.\u001B[39;00m\u001B[38;5;21;01mjson_viewer\u001B[39;00m \u001B[38;5;28;01mimport\u001B[39;00m JsonViewer\n\u001B[1;32m     17\u001B[0m \u001B[38;5;28;01mfrom\u001B[39;00m \u001B[38;5;21;01mpandasgui\u001B[39;00m\u001B[38;5;21;01m.\u001B[39;00m\u001B[38;5;21;01mwidgets\u001B[39;00m\u001B[38;5;21;01m.\u001B[39;00m\u001B[38;5;21;01mnavigator\u001B[39;00m \u001B[38;5;28;01mimport\u001B[39;00m Navigator\n\u001B[0;32m---> 18\u001B[0m \u001B[38;5;28;01mfrom\u001B[39;00m \u001B[38;5;21;01mpandasgui\u001B[39;00m\u001B[38;5;21;01m.\u001B[39;00m\u001B[38;5;21;01mwidgets\u001B[39;00m\u001B[38;5;21;01m.\u001B[39;00m\u001B[38;5;21;01mfigure_viewer\u001B[39;00m \u001B[38;5;28;01mimport\u001B[39;00m FigureViewer\n\u001B[1;32m     19\u001B[0m \u001B[38;5;28;01mfrom\u001B[39;00m \u001B[38;5;21;01mpandasgui\u001B[39;00m\u001B[38;5;21;01m.\u001B[39;00m\u001B[38;5;21;01mwidgets\u001B[39;00m\u001B[38;5;21;01m.\u001B[39;00m\u001B[38;5;21;01msettings_editor\u001B[39;00m \u001B[38;5;28;01mimport\u001B[39;00m SettingsEditor\n\u001B[1;32m     20\u001B[0m \u001B[38;5;28;01mimport\u001B[39;00m \u001B[38;5;21;01mqtstylish\u001B[39;00m\n",
      "File \u001B[0;32m~/anaconda3/envs/crawler/lib/python3.10/site-packages/pandasgui/widgets/figure_viewer.py:26\u001B[0m, in \u001B[0;36m<module>\u001B[0;34m\u001B[0m\n\u001B[1;32m     23\u001B[0m app \u001B[38;5;241m=\u001B[39m QtWidgets\u001B[38;5;241m.\u001B[39mQApplication\u001B[38;5;241m.\u001B[39minstance()\n\u001B[1;32m     25\u001B[0m \u001B[38;5;28;01mif\u001B[39;00m app \u001B[38;5;129;01mis\u001B[39;00m \u001B[38;5;28;01mNone\u001B[39;00m:\n\u001B[0;32m---> 26\u001B[0m     \u001B[38;5;28;01mfrom\u001B[39;00m \u001B[38;5;21;01mPyQt5\u001B[39;00m \u001B[38;5;28;01mimport\u001B[39;00m QtWebEngineWidgets\n\u001B[1;32m     27\u001B[0m \u001B[38;5;28;01melse\u001B[39;00m:\n\u001B[1;32m     28\u001B[0m     logger\u001B[38;5;241m.\u001B[39mwarning(\u001B[38;5;124m\"\u001B[39m\u001B[38;5;124mReinitializing existing QApplication to allow import of QtWebEngineWidgets. \u001B[39m\u001B[38;5;124m\"\u001B[39m\n\u001B[1;32m     29\u001B[0m                    \u001B[38;5;124m\"\u001B[39m\u001B[38;5;124mThis may cause problems. \u001B[39m\u001B[38;5;124m\"\u001B[39m\n\u001B[1;32m     30\u001B[0m                    \u001B[38;5;124m\"\u001B[39m\u001B[38;5;124mTo avoid this, import pandasgui or PyQt5.QtWebEngineWidgets before a QApplication is created.\u001B[39m\u001B[38;5;124m\"\u001B[39m)\n",
      "\u001B[0;31mImportError\u001B[0m: /lib/x86_64-linux-gnu/libgssapi_krb5.so.2: undefined symbol: krb5_ser_context_init, version krb5_3_MIT"
     ]
    }
   ],
   "source": [],
   "metadata": {
    "collapsed": false,
    "pycharm": {
     "name": "#%%\n"
    }
   }
  },
  {
   "cell_type": "markdown",
   "source": [
    "To get more keywords i could use sentence embedings(Doc2Vec, sentence-transformers, universal sentence encoder)\n",
    "[try classifying based off url handle alone](https://www.researchgate.net/publication/294423145_CALA_ClAssifying_Links_Automatically_based_on_their_URL)\n",
    "i could also use doc2vec embedings for page classification\n",
    "and then one of the sentence embedings for job title classification\n"
   ],
   "metadata": {
    "collapsed": false
   }
  }
 ],
 "metadata": {
  "kernelspec": {
   "display_name": "Python 3",
   "language": "python",
   "name": "python3"
  },
  "language_info": {
   "codemirror_mode": {
    "name": "ipython",
    "version": 2
   },
   "file_extension": ".py",
   "mimetype": "text/x-python",
   "name": "python",
   "nbconvert_exporter": "python",
   "pygments_lexer": "ipython2",
   "version": "2.7.6"
  }
 },
 "nbformat": 4,
 "nbformat_minor": 0
}