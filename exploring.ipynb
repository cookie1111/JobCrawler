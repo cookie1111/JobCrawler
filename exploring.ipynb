{
 "cells": [
  {
   "cell_type": "code",
   "execution_count": 17,
   "metadata": {
    "collapsed": true
   },
   "outputs": [
    {
     "name": "stdout",
     "output_type": "stream",
     "text": [
      "<bound method NDFrame.head of          Company_Name              URL  \\\n",
      "0        StudySmarter  studysmarter.de   \n",
      "1           Explosion     explosion.ai   \n",
      "2              Parloa       parloa.com   \n",
      "3            promiseQ     promiseq.com   \n",
      "4             AiSight       aisight.io   \n",
      "...               ...              ...   \n",
      "2626  moneymeets GmbH   moneymeets.com   \n",
      "2627       SABIO GmbH     getsabio.com   \n",
      "2628         Demodesk     demodesk.com   \n",
      "2629         eschbach     eschbach.com   \n",
      "2630      Onesto GmbH        onesto.de   \n",
      "\n",
      "                                                 Career  \\\n",
      "0                                                    []   \n",
      "1                                                    []   \n",
      "2                                                    []   \n",
      "3                       [https://promiseq.com/careers/]   \n",
      "4                        [https://aisight.io/en/career]   \n",
      "...                                                 ...   \n",
      "2626                     [https://moneymeets.com/jobs/]   \n",
      "2627         [https://www.getsabio.com/open-positions/]   \n",
      "2628                     [https://demodesk.com/careers]   \n",
      "2629  [https://eschbach.com/en/about-eschbach/jobs-c...   \n",
      "2630                                                 []   \n",
      "\n",
      "                                 Internal_Potential_Job  \\\n",
      "0                                                    []   \n",
      "1                                                    []   \n",
      "2                                                    []   \n",
      "3                                                    []   \n",
      "4                                                    []   \n",
      "...                                                 ...   \n",
      "2626  [mailto://jobs@moneymeets.com, https://moneyme...   \n",
      "2627                                                 []   \n",
      "2628                                                 []   \n",
      "2629  [https://eschbach.com/en/about-eschbach/jobs-c...   \n",
      "2630                                                 []   \n",
      "\n",
      "                                 External_Potential_Job  \n",
      "0                                                    []  \n",
      "1                                                    []  \n",
      "2                                                    []  \n",
      "3                                                    []  \n",
      "4                   [https://aisight.jobs.personio.de/]  \n",
      "...                                                 ...  \n",
      "2626                                                 []  \n",
      "2627  [https://serviceware-se.com/de/karriere/job-su...  \n",
      "2628  [https://de.indeed.com/cmp/Demodesk, https://w...  \n",
      "2629  [https://dhbw-loerrach.de/wirtschaftsinformati...  \n",
      "2630                                                 []  \n",
      "\n",
      "[2631 rows x 5 columns]>\n"
     ]
    }
   ],
   "source": [
    "import pandas as pd\n",
    "DF_PATH = 'sites.pkl'\n",
    "\n",
    "df = pd.read_pickle(DF_PATH)\n",
    "#levity = pd.read_pickle(\"/home/sebastjan/Documents/crawler/pages_ds/levity_ai/df.pkl\")\n",
    "#df.to_csv(\"careers.csv\")\n",
    "print(df.head)"
   ]
  },
  {
   "cell_type": "code",
   "execution_count": 18,
   "outputs": [
    {
     "data": {
      "text/plain": "1044"
     },
     "execution_count": 18,
     "metadata": {},
     "output_type": "execute_result"
    }
   ],
   "source": [
    "len(df[df.Career.astype(bool)])"
   ],
   "metadata": {
    "collapsed": false,
    "pycharm": {
     "name": "#%%\n"
    }
   }
  },
  {
   "cell_type": "code",
   "execution_count": 19,
   "outputs": [],
   "source": [
    "from page_classification import ClassifyPages"
   ],
   "metadata": {
    "collapsed": false,
    "pycharm": {
     "name": "#%%\n"
    }
   }
  },
  {
   "cell_type": "code",
   "execution_count": 20,
   "outputs": [
    {
     "name": "stdout",
     "output_type": "stream",
     "text": [
      "pages_ds/peppermotion_com\n"
     ]
    },
    {
     "ename": "TypeError",
     "evalue": "'generator' object is not subscriptable",
     "output_type": "error",
     "traceback": [
      "\u001B[0;31m---------------------------------------------------------------------------\u001B[0m",
      "\u001B[0;31mTypeError\u001B[0m                                 Traceback (most recent call last)",
      "Input \u001B[0;32mIn [20]\u001B[0m, in \u001B[0;36m<cell line: 3>\u001B[0;34m()\u001B[0m\n\u001B[1;32m      3\u001B[0m \u001B[38;5;28;01mfor\u001B[39;00m folder \u001B[38;5;129;01min\u001B[39;00m c:\n\u001B[1;32m      4\u001B[0m     \u001B[38;5;28mprint\u001B[39m(folder)\n\u001B[0;32m----> 5\u001B[0m     \u001B[43mc\u001B[49m\u001B[38;5;241;43m.\u001B[39;49m\u001B[43mget_folder_df\u001B[49m\u001B[43m(\u001B[49m\u001B[43mfolder\u001B[49m\u001B[43m)\u001B[49m\n\u001B[1;32m      6\u001B[0m     \u001B[38;5;28;01mbreak\u001B[39;00m\n",
      "File \u001B[0;32m~/Documents/crawler/page_classification.py:22\u001B[0m, in \u001B[0;36mClassifyPages.get_folder_df\u001B[0;34m(self, folder_path)\u001B[0m\n\u001B[1;32m     21\u001B[0m \u001B[38;5;28;01mdef\u001B[39;00m \u001B[38;5;21mget_folder_df\u001B[39m(\u001B[38;5;28mself\u001B[39m, folder_path):\n\u001B[0;32m---> 22\u001B[0m     \u001B[38;5;28;01mreturn\u001B[39;00m pd\u001B[38;5;241m.\u001B[39mread_csv(\u001B[43mfolder_path\u001B[49m\u001B[38;5;241;43m.\u001B[39;49m\u001B[43mglob\u001B[49m\u001B[43m(\u001B[49m\u001B[38;5;124;43m'\u001B[39;49m\u001B[38;5;124;43mdf.csv\u001B[39;49m\u001B[38;5;124;43m'\u001B[39;49m\u001B[43m)\u001B[49m\u001B[43m[\u001B[49m\u001B[38;5;241;43m0\u001B[39;49m\u001B[43m]\u001B[49m)\n",
      "\u001B[0;31mTypeError\u001B[0m: 'generator' object is not subscriptable"
     ]
    }
   ],
   "source": [
    "\n",
    "c = ClassifyPages(\"./pages_ds\")\n",
    "\n",
    "for folder in c:\n",
    "    print(folder)\n",
    "    c.get_folder_df(folder)\n",
    "    break"
   ],
   "metadata": {
    "collapsed": false,
    "pycharm": {
     "name": "#%%\n"
    }
   }
  },
  {
   "cell_type": "markdown",
   "source": [
    "To get more keywords i could use sentence embedings(Doc2Vec, sentence-transformers, universal sentence encoder)\n",
    "[try classifying based off url handle alone](https://www.researchgate.net/publication/294423145_CALA_ClAssifying_Links_Automatically_based_on_their_URL)\n",
    "i could also use doc2vec embedings for page classification\n",
    "and then one of the sentence embedings for job title classification\n"
   ],
   "metadata": {
    "collapsed": false
   }
  }
 ],
 "metadata": {
  "kernelspec": {
   "display_name": "Python 3",
   "language": "python",
   "name": "python3"
  },
  "language_info": {
   "codemirror_mode": {
    "name": "ipython",
    "version": 2
   },
   "file_extension": ".py",
   "mimetype": "text/x-python",
   "name": "python",
   "nbconvert_exporter": "python",
   "pygments_lexer": "ipython2",
   "version": "2.7.6"
  }
 },
 "nbformat": 4,
 "nbformat_minor": 0
}